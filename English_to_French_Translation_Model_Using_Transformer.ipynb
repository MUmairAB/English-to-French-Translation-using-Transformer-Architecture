{
  "cells": [
    {
      "cell_type": "markdown",
      "metadata": {
        "id": "view-in-github",
        "colab_type": "text"
      },
      "source": [
        "<a href=\"https://colab.research.google.com/github/MUmairAB/English-to-French-Translation-using-Transformer-Architecture/blob/main/English_to_French_Translation_Model_Using_Transformer.ipynb\" target=\"_parent\"><img src=\"https://colab.research.google.com/assets/colab-badge.svg\" alt=\"Open In Colab\"/></a>"
      ]
    },
    {
      "cell_type": "code",
      "execution_count": null,
      "metadata": {
        "id": "1-Kqp13SByau"
      },
      "outputs": [],
      "source": [
        "#Import necessary libraries\n",
        "import tensorflow as tf\n",
        "from tensorflow import keras\n",
        "from tensorflow.keras import layers\n",
        "import matplotlib.pyplot as plt\n",
        "import random\n",
        "import numpy as np\n",
        "import re"
      ]
    },
    {
      "cell_type": "code",
      "execution_count": null,
      "metadata": {
        "id": "QCO8DfK-M8PB"
      },
      "outputs": [],
      "source": [
        "SEED = 4243"
      ]
    },
    {
      "cell_type": "markdown",
      "metadata": {
        "id": "u5lTlSdUG3WP"
      },
      "source": [
        "The dataset it downloaded from [here](http://www.manythings.org/anki/)"
      ]
    },
    {
      "cell_type": "code",
      "execution_count": null,
      "metadata": {
        "colab": {
          "base_uri": "https://localhost:8080/"
        },
        "id": "P-Ab2joNznxp",
        "outputId": "79d6c5cc-6395-49c4-a562-a5e0683a02ed"
      },
      "outputs": [
        {
          "name": "stdout",
          "output_type": "stream",
          "text": [
            "--2023-06-17 16:06:52--  http://www.manythings.org/anki/fra-eng.zip\n",
            "Resolving www.manythings.org (www.manythings.org)... 173.254.30.110\n",
            "Connecting to www.manythings.org (www.manythings.org)|173.254.30.110|:80... connected.\n",
            "HTTP request sent, awaiting response... 200 OK\n",
            "Length: 7420323 (7.1M) [application/zip]\n",
            "Saving to: ‘fra-eng.zip’\n",
            "\n",
            "fra-eng.zip         100%[===================>]   7.08M  33.9MB/s    in 0.2s    \n",
            "\n",
            "2023-06-17 16:06:53 (33.9 MB/s) - ‘fra-eng.zip’ saved [7420323/7420323]\n",
            "\n"
          ]
        }
      ],
      "source": [
        "#Download the dataset\n",
        "!wget http://www.manythings.org/anki/fra-eng.zip"
      ]
    },
    {
      "cell_type": "code",
      "execution_count": null,
      "metadata": {
        "id": "v7R3Cf8YBu4k"
      },
      "outputs": [],
      "source": [
        "#Unzip the downloaded zip file\n",
        "!unzip -q /content/fra-eng.zip"
      ]
    },
    {
      "cell_type": "code",
      "execution_count": null,
      "metadata": {
        "colab": {
          "base_uri": "https://localhost:8080/"
        },
        "id": "56MgFoplCGIC",
        "outputId": "6c2f68b8-46a7-4ede-a8ca-f5bdc9afe18a"
      },
      "outputs": [
        {
          "name": "stdout",
          "output_type": "stream",
          "text": [
            "** Info **\n",
            "\n",
            "Check for newest version here:\n",
            "  http://www.manythings.org/anki/\n",
            "Date of this file:\n",
            "  2023-04-02\n",
            "\n",
            "This data is from the sentences_detailed.csv file from tatoeba.org.\n",
            "http://tatoeba.org/files/downloads/sentences_detailed.csv\n",
            "\n",
            "\n",
            "\n",
            "** Terms of Use **\n",
            "\n",
            "See the terms of use.\n",
            "These files have been released under the same license as the\n",
            "source.\n",
            "\n",
            "http://tatoeba.org/eng/terms_of_use\n",
            "http://creativecommons.org/licenses/by/2.0\n",
            "\n",
            "Attribution: www.manythings.org/anki and tatoeba.org\n",
            "\n",
            "\n",
            "\n",
            "** Warnings ** \n",
            "\n",
            "The data from the Tatoeba Project contains errors.\n",
            "\n",
            "To lower the number of errors you are likely to see, only\n",
            "sentences by native speakers and proofread sentences have\n",
            "been included.\n",
            "\n",
            "For the non-English language, I made these (possibly wrong)\n",
            "assumptions.\n",
            "Assumption 1: Sentences written by native speakers can be\n",
            "trusted.\n",
            "Assumption 2: Contributors to the Tatoeba Project are honest\n",
            "about what their native language is.\n",
            "\n",
            "For English, I used the sentences that I have proofread\n",
            "and thought were OK.\n",
            "Of course, I may have missed a few errors.\n",
            "\n",
            "\n",
            "\n",
            "** Downloading Anki ** \n",
            "\n",
            "See http://ankisrs.net/\n",
            "\n",
            "\n",
            "\n",
            "** Importing into Anki ** \n",
            "\n",
            "Information is at http://ankisrs.net/docs/manual.html#importing\n",
            "\n",
            "Of particular interest may be about \"duplicates\" at http://ankisrs.net/docs/manual.html#duplicates-and-updating.\n",
            "You can choose:\n",
            "1. not to allow duplicates (alternate translations) as cards.\n",
            "2. allow duplicates (alternate translations) as cards.\n"
          ]
        }
      ],
      "source": [
        "#Open the about.txt file\n",
        "!cat /content/_about.txt"
      ]
    },
    {
      "cell_type": "code",
      "execution_count": null,
      "metadata": {
        "id": "_SUG3Kw6CKFu"
      },
      "outputs": [],
      "source": [
        "#Read the text file\n",
        "with open (\"/content/fra.txt\") as f:\n",
        "  lines = f.read().split(\"\\n\")[:-1]"
      ]
    },
    {
      "cell_type": "code",
      "execution_count": null,
      "metadata": {
        "colab": {
          "base_uri": "https://localhost:8080/",
          "height": 59
        },
        "id": "ew7juqz4C1ri",
        "outputId": "33e0d13d-6443-46cd-855c-c77af1dacf77"
      },
      "outputs": [
        {
          "data": {
            "application/vnd.google.colaboratory.intrinsic+json": {
              "type": "string"
            },
            "text/plain": [
              "\"Tom is worried sick about Mary.\\tTom est malade d'inquiétude à propos de Marie.\\tCC-BY 2.0 (France) Attribution: tatoeba.org #5646159 (CK) & #5646175 (Scorpionvenin14)\""
            ]
          },
          "execution_count": 7,
          "metadata": {},
          "output_type": "execute_result"
        }
      ],
      "source": [
        "#Let us look at some randome sample\n",
        "random.choice(lines)"
      ]
    },
    {
      "cell_type": "markdown",
      "metadata": {
        "id": "5vK7HpeEENxZ"
      },
      "source": [
        "We can see that the each line contains three parts:\n",
        "\n",
        "1. **English sentence/word**\n",
        "2. **Corresponding French translation**\n",
        "3. **Attributes**\n",
        "\n",
        "We need English sentence and its Frensh translation. But we don't need the attributes. So, we'll discard it. Moreover, we'll save it as tuple (*English_sentence*, *French_sentence*)\n",
        "\n",
        "All these three parts are separated by the **tab** character **\\t**. So, we'll use it in **split()** method."
      ]
    },
    {
      "cell_type": "code",
      "execution_count": null,
      "metadata": {
        "id": "fC0pc0rzC3BF"
      },
      "outputs": [],
      "source": [
        "#Parse the file\n",
        "\n",
        "#Variable to store the (English_sentence, French_sentence) tuple\n",
        "text = list()\n",
        "\n",
        "for line in lines:\n",
        "    #Split the each line at tab character discard the attribution part\n",
        "    english, french, _ = line.split(\"\\t\")\n",
        "    #Add special words [start] and [end] for Transformer Decoder\n",
        "    # Note the space after [start] and before [end]\n",
        "    french = \"[start] \" + french + \" [end]\"\n",
        "    text.append((english,french))"
      ]
    },
    {
      "cell_type": "code",
      "execution_count": null,
      "metadata": {
        "colab": {
          "base_uri": "https://localhost:8080/"
        },
        "id": "vyFp8AAFFelU",
        "outputId": "e1d8939c-9d3f-4b13-caa0-819bbfd61106"
      },
      "outputs": [
        {
          "name": "stdout",
          "output_type": "stream",
          "text": [
            "('Hide.', '[start] Cachez-vous. [end]')\n",
            "(\"I'm sure the police will catch the kidnappers.\", '[start] Je suis sûr que la police attrapera les kidnappeurs. [end]')\n"
          ]
        }
      ],
      "source": [
        "#Let's look at some sample\n",
        "print(text[32]) # 32nd sample\n",
        "print(random.choice(text)) # A random sample"
      ]
    },
    {
      "cell_type": "markdown",
      "metadata": {
        "id": "O9hLpINDKTzo"
      },
      "source": [
        "## Split the dataset\n",
        "\n",
        "Now, we'll split the dataset into:\n",
        "\n",
        "1. **Train**\n",
        "2. **Test**\n",
        "3. **Validation**\n",
        "\n",
        "Since we want to deploy in the wild, we'll use a large chunk for training and validation."
      ]
    },
    {
      "cell_type": "code",
      "execution_count": null,
      "metadata": {
        "id": "RmJlZEVuJkIM"
      },
      "outputs": [],
      "source": [
        "#Shuffle the data using random seed\n",
        "random.Random(SEED).shuffle(text)\n",
        "random.Random(SEED+8112).shuffle(text)\n",
        "random.Random(SEED+2120).shuffle(text)\n",
        "\n",
        "#We'll use 15% data for validation\n",
        "num_validation = int(0.15 * len(text))\n",
        "#we'll use the 5% of the remaining data for test\n",
        "num_test = int(0.05 * (len(text) - num_validation))\n",
        "\n",
        "val_data = text[:num_validation]\n",
        "test_data = text[num_validation:num_validation+num_test]\n",
        "train_data = text[num_validation+num_test:]"
      ]
    },
    {
      "cell_type": "markdown",
      "metadata": {
        "id": "q9drpn0XOzFJ"
      },
      "source": [
        "## Sentence Length\n",
        "\n",
        "We will check the length of sentences in the dataset. So that we could get the idea about the input size to our Transformer"
      ]
    },
    {
      "cell_type": "code",
      "execution_count": null,
      "metadata": {
        "colab": {
          "base_uri": "https://localhost:8080/"
        },
        "id": "DblAFp0MQMFO",
        "outputId": "ed4b8308-366d-43fb-e419-31495986702f"
      },
      "outputs": [
        {
          "name": "stdout",
          "output_type": "stream",
          "text": [
            "Maximum length of English sentence = 286\n",
            "Maximum length of French sentence = 363\n"
          ]
        }
      ],
      "source": [
        "#Check the maximum length of sentences in each language\n",
        "eng_length = 0\n",
        "fra_length = 0\n",
        "for eng, fra in text:\n",
        "    if eng_length < len(eng):\n",
        "        eng_length = len(eng)\n",
        "    if fra_length < len(fra):\n",
        "        fra_length = len(fra)\n",
        "\n",
        "print(f\"Maximum length of English sentence = {eng_length}\")\n",
        "print(f\"Maximum length of French sentence = {fra_length}\")"
      ]
    },
    {
      "cell_type": "markdown",
      "metadata": {
        "id": "wnMYd55y0k50"
      },
      "source": [
        "This does not give us any idea about the whole corpus. We don't even know the average length and population distribution. So, let's plot the **histogram** of the lengths of the sentence."
      ]
    },
    {
      "cell_type": "code",
      "execution_count": null,
      "metadata": {
        "id": "OmxoKk1DUPA2"
      },
      "outputs": [],
      "source": [
        "#Plot the Histogram of the lengths of the sentences in each language\n",
        "\n",
        "#unzip the text data\n",
        "un_zip = list(zip(*text))\n",
        "\n",
        "#Extact the English word's list and French words list\n",
        "eng = un_zip[0]\n",
        "fra = un_zip[1]\n",
        "\n",
        "#Sort the sentences based on their length\n",
        "eng_longest = sorted(eng, key=len)\n",
        "fra_longest = sorted(fra, key=len)\n",
        "\n",
        "#Create variables to store the length of sentences\n",
        "eng_length = []\n",
        "fra_length = []\n",
        "\n",
        "#Calculate the lengths\n",
        "for sentence in eng_longest:\n",
        "    eng_length.append(len(sentence))\n",
        "\n",
        "for sentence in fra_longest:\n",
        "    fra_length.append(len(sentence))"
      ]
    },
    {
      "cell_type": "code",
      "execution_count": null,
      "metadata": {
        "colab": {
          "base_uri": "https://localhost:8080/",
          "height": 524
        },
        "id": "dqIDjfr1wGCj",
        "outputId": "a9b050b5-6b20-4bff-b74e-daa354728dcd"
      },
      "outputs": [
        {
          "data": {
            "image/png": "[encoded data removed]",
            "text/plain": [
              "<Figure size 1200x800 with 2 Axes>"
            ]
          },
          "metadata": {},
          "output_type": "display_data"
        }
      ],
      "source": [
        "#Plot the histogram\n",
        "fig,ax = plt.subplots(1,2,figsize=(12,8))\n",
        "\n",
        "ax[0].hist(fra_length)\n",
        "ax[0].set_title(\"Histogram of French Sentence Length\")\n",
        "ax[0].set_xlabel(\"Sentence Length\")\n",
        "ax[0].set_ylabel(\"Count\");\n",
        "\n",
        "ax[1].hist(eng_length)\n",
        "ax[1].set_title(\"Histogram of English Sentence Length\")\n",
        "ax[1].set_xlabel(\"Sentence Length\")\n",
        "ax[1].set_ylabel(\"Count\");"
      ]
    },
    {
      "cell_type": "markdown",
      "metadata": {
        "id": "yXmOkvC11jEi"
      },
      "source": [
        "Let's check the distribution of top 1% sentences."
      ]
    },
    {
      "cell_type": "code",
      "execution_count": null,
      "metadata": {
        "colab": {
          "base_uri": "https://localhost:8080/",
          "height": 539
        },
        "id": "UNF-_ifdUCsk",
        "outputId": "5a4719f5-8e5f-4726-9853-f6a5f840d709"
      },
      "outputs": [
        {
          "data": {
            "image/png": "[encoded data removed]",
            "text/plain": [
              "<Figure size 1200x800 with 2 Axes>"
            ]
          },
          "metadata": {},
          "output_type": "display_data"
        }
      ],
      "source": [
        "#Histogram of top 1% longest sentences\n",
        "one_percent = int(0.01*len(text))\n",
        "fig,ax = plt.subplots(1,2,figsize=(12,8))\n",
        "bins = range(0,np.max(fra_length),10)\n",
        "ax[0].hist(fra_length[-one_percent:],bins=bins)\n",
        "ax[0].set_title(\"Histogram of Top 100 French Sentence Length\")\n",
        "ax[0].set_xlabel(\"Sentence Length\")\n",
        "ax[0].set_ylabel(\"Count\");\n",
        "\n",
        "bins = range(0,np.max(eng_length),10)\n",
        "ax[1].hist(eng_length[-one_percent:], bins=bins)\n",
        "ax[1].set_title(\"Histogram of Top 100 English Sentence Length\")\n",
        "ax[1].set_xlabel(\"Sentence Length\")\n",
        "ax[1].set_ylabel(\"Count\");"
      ]
    },
    {
      "cell_type": "code",
      "execution_count": null,
      "metadata": {
        "colab": {
          "base_uri": "https://localhost:8080/"
        },
        "id": "akgFJXhC4yNa",
        "outputId": "9867d4a7-c877-4767-b1c8-4ba7b259a2c2"
      },
      "outputs": [
        {
          "name": "stdout",
          "output_type": "stream",
          "text": [
            "Average sentence length of English sentence is 49\n",
            "Average sentence length of French sentence is 30\n"
          ]
        }
      ],
      "source": [
        "print(f\"Average sentence length of English sentence is {int(np.mean(fra_length))}\")\n",
        "print(f\"Average sentence length of French sentence is {int(np.mean(eng_length))}\")"
      ]
    },
    {
      "cell_type": "markdown",
      "metadata": {
        "id": "Wpw1TQQc4p7k"
      },
      "source": [
        "## Vectorization\n",
        "\n",
        "Our data is in text format. But computers only deal with numbers. So, we'll vectorize the data to convert it to numbers.\n",
        "\n",
        "We usually discard the punctuation words and special characters to keep the vocabulary small. But since we are building a real-world model, we won't be doin it. We'll keep most of the words as it."
      ]
    },
    {
      "cell_type": "code",
      "execution_count": null,
      "metadata": {
        "id": "ygWMFFiGN6Ne"
      },
      "outputs": [],
      "source": [
        "#Restrict the vocabulary to top 20K words\n",
        "vocab_size = 20000\n",
        "#Restrict the sentence length to 80 words\n",
        "sequence_length = 80\n",
        "\n",
        "#TextVectorization object for English words\n",
        "english_vectorization = layers.TextVectorization(\n",
        "                                    max_tokens=vocab_size,\n",
        "                                    output_mode=\"int\",\n",
        "                                    output_sequence_length=sequence_length,\n",
        "                                               )\n",
        "\n",
        "#TextVectorization object for French words\n",
        "french_vectorization = layers.TextVectorization(\n",
        "                                    max_tokens=vocab_size,\n",
        "                                    output_mode=\"int\",\n",
        "                                    #We'll add 1 for offest\n",
        "                                    output_sequence_length=sequence_length + 1\n",
        "                                               )\n",
        "\n",
        "#Get the training sample for English and French sentences\n",
        "train_english_texts = [sentence[0] for sentence in train_data]\n",
        "train_french_texts = [sentence[1] for sentence in train_data]\n",
        "\n",
        "#Learn the vocabulary of English and French language\n",
        "english_vectorization.adapt(train_english_texts)\n",
        "french_vectorization.adapt(train_french_texts)"
      ]
    },
    {
      "cell_type": "code",
      "execution_count": null,
      "metadata": {
        "id": "t-6peI7v6Gr2"
      },
      "outputs": [],
      "source": [
        "#Prepare the Tensorflow Dataset Object\n",
        "batch_size = 64\n",
        "def format_dataset(eng, fra):\n",
        "   #Vectorize the text data\n",
        "   eng = english_vectorization(eng)\n",
        "   fra = french_vectorization(fra)\n",
        "   return ({\n",
        "           \"english\": eng,\n",
        "           \"french\": fra[:, :-1], #Skip the last entry of all the batch\n",
        "           },\n",
        "           fra[:, 1:] #Skip the first entry of all the batch\n",
        "          )\n",
        "def make_dataset(text_data):\n",
        "   #Unzip the parsed tupple i.e., (english_sentence, french_sentence)\n",
        "   eng_texts, fra_texts = zip(*text_data)\n",
        "\n",
        "   #Convert these to list\n",
        "   eng_texts = list(eng_texts)\n",
        "   fra_texts = list(fra_texts)\n",
        "\n",
        "   #Convert the list data into Tensorflow Dataset Object\n",
        "   dataset = tf.data.Dataset.from_tensor_slices((eng_texts, fra_texts))\n",
        "   #Convert the data into Batches\n",
        "   dataset = dataset.batch(batch_size)\n",
        "\n",
        "   #Apply the \"format_dataset\" function on the batched Dataset Object\n",
        "   dataset = dataset.map(format_dataset, num_parallel_calls=4)\n",
        "\n",
        "   #Use the prefetch() & cache() methods for efficient resource utilization\n",
        "   return dataset.shuffle(SEED).prefetch(16).cache()\n",
        "\n",
        "#Use the above defined functions\n",
        "train_ds = make_dataset(train_data)\n",
        "val_ds = make_dataset(val_data)"
      ]
    },
    {
      "cell_type": "code",
      "execution_count": null,
      "metadata": {
        "colab": {
          "base_uri": "https://localhost:8080/"
        },
        "id": "0UvTWUF37cU4",
        "outputId": "0fd31279-820e-435e-96f9-e9fe952e3042"
      },
      "outputs": [
        {
          "name": "stdout",
          "output_type": "stream",
          "text": [
            "inputs['english'].shape: (64, 80)\n",
            "inputs['french'].shape: (64, 80)\n",
            "targets.shape: (64, 80)\n"
          ]
        }
      ],
      "source": [
        "#Have a look at the Dataset object shape\n",
        "for inputs, targets in train_ds.take(1):\n",
        "    print(f\"inputs['english'].shape: {inputs['english'].shape}\")\n",
        "    print(f\"inputs['french'].shape: {inputs['french'].shape}\")\n",
        "    print(f\"targets.shape: {targets.shape}\")"
      ]
    },
    {
      "cell_type": "markdown",
      "metadata": {
        "id": "UgKzoG8A80ix"
      },
      "source": [
        "## Model"
      ]
    },
    {
      "cell_type": "code",
      "execution_count": null,
      "metadata": {
        "id": "3lTvGLjr7lnx"
      },
      "outputs": [],
      "source": [
        "#Define a Transformer Encoder using subclassed layer\n",
        "class TransformerEncoder(layers.Layer):\n",
        "\n",
        "   def __init__(self, embed_dim, dense_dim, num_heads, **kwargs):\n",
        "      super().__init__(**kwargs)\n",
        "\n",
        "      #Size of the input vector (size of the vocabulary)\n",
        "      self.embed_dim = embed_dim\n",
        "      #Size of the inner dense layer\n",
        "      self.dense_dim = dense_dim\n",
        "      #Number of attention heads\n",
        "      self.num_heads = num_heads\n",
        "\n",
        "      self.attention = layers.MultiHeadAttention(num_heads=num_heads, key_dim=embed_dim)\n",
        "      self.dense_proj = keras.Sequential(\n",
        "                   [layers.Dense(dense_dim, activation=\"relu\"),\n",
        "                    layers.Dense(embed_dim),]\n",
        "                                        )\n",
        "      self.layernorm_1 = layers.LayerNormalization()\n",
        "      self.layernorm_2 = layers.LayerNormalization()\n",
        "\n",
        "   #Define a call() method  where forward pass is implemented\n",
        "   def call(self, inputs, mask=None):\n",
        "      if mask is not None:\n",
        "         mask = mask[:, tf.newaxis, :]\n",
        "\n",
        "      #Apply the attention layer\n",
        "      attention_output = self.attention(inputs, inputs, attention_mask=mask)\n",
        "      #Normalize the data\n",
        "      proj_input = self.layernorm_1(inputs + attention_output)\n",
        "      #Apply the dense layer\n",
        "      proj_output = self.dense_proj(proj_input)\n",
        "      #Normalize the data and return it\n",
        "      return self.layernorm_2(proj_input + proj_output)\n",
        "\n",
        "   #Define configuration method\n",
        "   def get_config(self):\n",
        "      config = super().get_config()\n",
        "      config.update({\n",
        "                    \"embed_dim\": self.embed_dim,\n",
        "                    \"num_heads\": self.num_heads,\n",
        "                    \"dense_dim\": self.dense_dim,\n",
        "                    })\n",
        "      return config"
      ]
    },
    {
      "cell_type": "code",
      "execution_count": null,
      "metadata": {
        "id": "7GrEYHU08o4u"
      },
      "outputs": [],
      "source": [
        "# Implementing positional embedding as a subclassed layer\n",
        "class PositionalEmbedding(layers.Layer):\n",
        "    def __init__(self, sequence_length, input_dim, output_dim, **kwargs):\n",
        "\n",
        "       super().__init__(**kwargs)\n",
        "       self.sequence_length = sequence_length\n",
        "       self.input_dim = input_dim\n",
        "       self.output_dim = output_dim\n",
        "       self.token_embeddings = layers.Embedding(\n",
        "          input_dim=input_dim, output_dim=output_dim)\n",
        "       self.position_embeddings = layers.Embedding(\n",
        "                   input_dim=sequence_length, output_dim=output_dim)\n",
        "\n",
        "    def call(self, inputs):\n",
        "       length = tf.shape(inputs)[-1]\n",
        "       positions = tf.range(start=0, limit=length, delta=1)\n",
        "       embedded_tokens = self.token_embeddings(inputs)\n",
        "       embedded_positions = self.position_embeddings(positions)\n",
        "       return embedded_tokens + embedded_positions\n",
        "\n",
        "    def compute_mask(self, inputs, mask=None):\n",
        "       return tf.math.not_equal(inputs, 0)\n",
        "\n",
        "    def get_config(self):\n",
        "       config = super().get_config()\n",
        "       config.update({\n",
        "           \"output_dim\": self.output_dim,\n",
        "           \"sequence_length\": self.sequence_length,\n",
        "           \"input_dim\": self.input_dim,\n",
        "                    })\n",
        "       return config"
      ]
    },
    {
      "cell_type": "code",
      "execution_count": null,
      "metadata": {
        "id": "huHZEnW18RLm"
      },
      "outputs": [],
      "source": [
        "#Transformer Decoder\n",
        "class TransformerDecoder(layers.Layer):\n",
        "   def __init__(self, embed_dim, dense_dim, num_heads, **kwargs):\n",
        "      super().__init__(**kwargs)\n",
        "\n",
        "      self.embed_dim = embed_dim\n",
        "      self.dense_dim = dense_dim\n",
        "      self.num_heads = num_heads\n",
        "      self.attention_1 = layers.MultiHeadAttention(\n",
        "      num_heads=num_heads, key_dim=embed_dim)\n",
        "      self.attention_2 = layers.MultiHeadAttention(\n",
        "      num_heads=num_heads, key_dim=embed_dim)\n",
        "      self.dense_proj = keras.Sequential(\n",
        "          [layers.Dense(dense_dim, activation=\"relu\"),\n",
        "           layers.Dense(embed_dim),]\n",
        "                                        )\n",
        "      self.layernorm_1 = layers.LayerNormalization()\n",
        "      self.layernorm_2 = layers.LayerNormalization()\n",
        "      self.layernorm_3 = layers.LayerNormalization()\n",
        "      self.supports_masking = True\n",
        "   def get_config(self):\n",
        "      config = super().get_config()\n",
        "      config.update({\n",
        "                   \"embed_dim\": self.embed_dim,\n",
        "                   \"num_heads\": self.num_heads,\n",
        "                   \"dense_dim\": self.dense_dim,\n",
        "                   })\n",
        "      return config\n",
        "\n",
        "    #Generates a causal mask\n",
        "   def get_causal_attention_mask(self, inputs):\n",
        "        input_shape = tf.shape(inputs)\n",
        "        batch_size, sequence_length = input_shape[0], input_shape[1]\n",
        "        i = tf.range(sequence_length)[:, tf.newaxis]\n",
        "        j = tf.range(sequence_length)\n",
        "        mask = tf.cast(i >= j, dtype=\"int32\")\n",
        "        mask = tf.reshape(mask, (1, input_shape[1], input_shape[1]))\n",
        "        mult = tf.concat(\n",
        "                   [tf.expand_dims(batch_size, -1),\n",
        "                   tf.constant([1, 1], dtype=tf.int32)], axis=0)\n",
        "        return tf.tile(mask, mult)\n",
        "\n",
        "    #define the call method()\n",
        "   def call(self, inputs, encoder_outputs, mask=None):\n",
        "        causal_mask = self.get_causal_attention_mask(inputs)\n",
        "        if mask is not None:\n",
        "             padding_mask = tf.cast(\n",
        "                mask[:, tf.newaxis, :], dtype=\"int32\")\n",
        "        padding_mask = tf.minimum(padding_mask, causal_mask)\n",
        "        attention_output_1 = self.attention_1(\n",
        "                    query=inputs,\n",
        "                    value=inputs,\n",
        "                    key=inputs,\n",
        "                    attention_mask=causal_mask)\n",
        "        attention_output_1 = self.layernorm_1(inputs + attention_output_1)\n",
        "        attention_output_2 = self.attention_2(\n",
        "                   query=attention_output_1,\n",
        "                   value=encoder_outputs,\n",
        "                   key=encoder_outputs,\n",
        "                   attention_mask=padding_mask)\n",
        "        attention_output_2 = self.layernorm_2(\n",
        "                   attention_output_1 + attention_output_2)\n",
        "        proj_output = self.dense_proj(attention_output_2)\n",
        "        return self.layernorm_3(attention_output_2 + proj_output)"
      ]
    },
    {
      "cell_type": "code",
      "execution_count": null,
      "metadata": {
        "id": "ZHtwv3gSA2Xa"
      },
      "outputs": [],
      "source": [
        "embed_dim = 256\n",
        "dense_dim = 2048\n",
        "num_heads = 8\n",
        "\n",
        "encoder_inputs = keras.Input(shape=(None,), dtype=\"int64\", name=\"english\")\n",
        "x = PositionalEmbedding(sequence_length, vocab_size, embed_dim)(encoder_inputs)\n",
        "encoder_outputs = TransformerEncoder(embed_dim, dense_dim, num_heads)(x)\n",
        "\n",
        "decoder_inputs = keras.Input(shape=(None,), dtype=\"int64\", name=\"french\")\n",
        "x = PositionalEmbedding(sequence_length, vocab_size, embed_dim)(decoder_inputs)\n",
        "x = TransformerDecoder(embed_dim, dense_dim, num_heads)(x, encoder_outputs)\n",
        "x = layers.Dropout(0.5)(x)\n",
        "decoder_outputs = layers.Dense(vocab_size, activation=\"softmax\")(x)\n",
        "transformer = keras.Model([encoder_inputs, decoder_inputs], decoder_outputs)"
      ]
    },
    {
      "cell_type": "code",
      "execution_count": null,
      "metadata": {
        "colab": {
          "base_uri": "https://localhost:8080/"
        },
        "id": "S6I1_3OiGLJr",
        "outputId": "9acda216-a0c2-47ec-c13e-33b9331db7fc"
      },
      "outputs": [
        {
          "name": "stdout",
          "output_type": "stream",
          "text": [
            "Model: \"model\"\n",
            "__________________________________________________________________________________________________\n",
            " Layer (type)                   Output Shape         Param #     Connected to                     \n",
            "==================================================================================================\n",
            " english (InputLayer)           [(None, None)]       0           []                               \n",
            "                                                                                                  \n",
            " french (InputLayer)            [(None, None)]       0           []                               \n",
            "                                                                                                  \n",
            " positional_embedding (Position  (None, None, 256)   5140480     ['english[0][0]']                \n",
            " alEmbedding)                                                                                     \n",
            "                                                                                                  \n",
            " positional_embedding_1 (Positi  (None, None, 256)   5140480     ['french[0][0]']                 \n",
            " onalEmbedding)                                                                                   \n",
            "                                                                                                  \n",
            " transformer_encoder (Transform  (None, None, 256)   3155456     ['positional_embedding[0][0]']   \n",
            " erEncoder)                                                                                       \n",
            "                                                                                                  \n",
            " transformer_decoder (Transform  (None, None, 256)   5259520     ['positional_embedding_1[0][0]', \n",
            " erDecoder)                                                       'transformer_encoder[0][0]']    \n",
            "                                                                                                  \n",
            " dropout (Dropout)              (None, None, 256)    0           ['transformer_decoder[0][0]']    \n",
            "                                                                                                  \n",
            " dense_4 (Dense)                (None, None, 20000)  5140000     ['dropout[0][0]']                \n",
            "                                                                                                  \n",
            "==================================================================================================\n",
            "Total params: 23,835,936\n",
            "Trainable params: 23,835,936\n",
            "Non-trainable params: 0\n",
            "__________________________________________________________________________________________________\n"
          ]
        }
      ],
      "source": [
        "transformer.summary()"
      ]
    },
    {
      "cell_type": "code",
      "execution_count": null,
      "metadata": {
        "id": "748gjqOyBgMd"
      },
      "outputs": [],
      "source": [
        "#Compile the model\n",
        "transformer.compile(\n",
        "                    optimizer=\"rmsprop\",\n",
        "                    loss=\"sparse_categorical_crossentropy\",\n",
        "                    metrics=[\"accuracy\"])"
      ]
    },
    {
      "cell_type": "code",
      "execution_count": null,
      "metadata": {
        "colab": {
          "background_save": true
        },
        "id": "Dj2YsBwZrby8"
      },
      "outputs": [],
      "source": [
        "callbacks = [\n",
        "     keras.callbacks.ModelCheckpoint(\"eng2french_transformer.keras\",\n",
        "                                      save_best_only=True)\n",
        "            ]"
      ]
    },
    {
      "cell_type": "code",
      "execution_count": null,
      "metadata": {
        "colab": {
          "base_uri": "https://localhost:8080/"
        },
        "id": "sUBGmsfnDuBU",
        "outputId": "2eee0c8a-cf15-4e91-9135-ee40e090dc78"
      },
      "outputs": [
        {
          "name": "stdout",
          "output_type": "stream",
          "text": [
            "Epoch 1/30\n",
            "2751/2751 [==============================] - 715s 255ms/step - loss: 3.1994 - accuracy: 0.5122 - val_loss: 2.3748 - val_accuracy: 0.6100\n",
            "Epoch 2/30\n",
            "2751/2751 [==============================] - 694s 252ms/step - loss: 2.4441 - accuracy: 0.6090 - val_loss: 2.1667 - val_accuracy: 0.6449\n",
            "Epoch 3/30\n",
            "2751/2751 [==============================] - 670s 243ms/step - loss: 2.2689 - accuracy: 0.6387 - val_loss: 2.1041 - val_accuracy: 0.6575\n",
            "Epoch 4/30\n",
            "2751/2751 [==============================] - 694s 252ms/step - loss: 2.1806 - accuracy: 0.6562 - val_loss: 2.0735 - val_accuracy: 0.6680\n",
            "Epoch 5/30\n",
            "2751/2751 [==============================] - 669s 243ms/step - loss: 2.1065 - accuracy: 0.6707 - val_loss: 2.0188 - val_accuracy: 0.6800\n",
            "Epoch 6/30\n",
            "2751/2751 [==============================] - 670s 243ms/step - loss: 2.0310 - accuracy: 0.6847 - val_loss: 1.9844 - val_accuracy: 0.6868\n",
            "Epoch 7/30\n",
            "2751/2751 [==============================] - 669s 243ms/step - loss: 1.9766 - accuracy: 0.6946 - val_loss: 1.9667 - val_accuracy: 0.6918\n",
            "Epoch 8/30\n",
            "2751/2751 [==============================] - 694s 252ms/step - loss: 1.9321 - accuracy: 0.7025 - val_loss: 1.9566 - val_accuracy: 0.6959\n",
            "Epoch 9/30\n",
            "2751/2751 [==============================] - 694s 252ms/step - loss: 1.8961 - accuracy: 0.7086 - val_loss: 1.9504 - val_accuracy: 0.6988\n",
            "Epoch 10/30\n",
            "2751/2751 [==============================] - 669s 243ms/step - loss: 1.8642 - accuracy: 0.7142 - val_loss: 1.9544 - val_accuracy: 0.6998\n",
            "Epoch 11/30\n",
            "2751/2751 [==============================] - 669s 243ms/step - loss: 1.8376 - accuracy: 0.7195 - val_loss: 1.9600 - val_accuracy: 0.7001\n",
            "Epoch 12/30\n",
            "2751/2751 [==============================] - 669s 243ms/step - loss: 1.8123 - accuracy: 0.7236 - val_loss: 1.9531 - val_accuracy: 0.7025\n",
            "Epoch 13/30\n",
            "2751/2751 [==============================] - 694s 252ms/step - loss: 1.7892 - accuracy: 0.7278 - val_loss: 1.9523 - val_accuracy: 0.7016\n",
            "Epoch 14/30\n",
            "2751/2751 [==============================] - 669s 243ms/step - loss: 1.7690 - accuracy: 0.7311 - val_loss: 1.9614 - val_accuracy: 0.7028\n",
            "Epoch 15/30\n",
            "2751/2751 [==============================] - 670s 244ms/step - loss: 1.7516 - accuracy: 0.7342 - val_loss: 1.9576 - val_accuracy: 0.7059\n",
            "Epoch 16/30\n",
            " 541/2751 [====>.........................] - ETA: 8:12 - loss: 1.7434 - accuracy: 0.7359"
          ]
        }
      ],
      "source": [
        "#Train the model\n",
        "transformer.fit(train_ds, epochs=30, validation_data=val_ds,callbacks=callbacks)"
      ]
    }
  ],
  "metadata": {
    "accelerator": "GPU",
    "colab": {
      "provenance": [],
      "authorship_tag": "ABX9TyP0AOMlDtPP2rh9e8I+pRi4",
      "include_colab_link": true
    },
    "kernelspec": {
      "display_name": "Python 3",
      "name": "python3"
    },
    "language_info": {
      "name": "python"
    }
  },
  "nbformat": 4,
  "nbformat_minor": 0
}